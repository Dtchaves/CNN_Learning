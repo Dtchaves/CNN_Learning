{
 "cells": [
  {
   "cell_type": "markdown",
   "id": "110873bc",
   "metadata": {},
   "source": [
    "# VGG\n",
    "https://arxiv.org/pdf/1409.1556.pdf\n",
    "\n",
    "https://www.youtube.com/watch?v=ACmuBbuXn20\n"
   ]
  },
  {
   "cell_type": "markdown",
   "id": "ca2f11bd",
   "metadata": {},
   "source": [
    "### IMPORTS"
   ]
  },
  {
   "cell_type": "code",
   "execution_count": null,
   "id": "a2e88f40",
   "metadata": {},
   "outputs": [],
   "source": [
    "import matplotlib.pyplot as plt\n",
    "import os\n",
    "import torch\n",
    "from tqdm import tqdm\n",
    "from torch import nn\n",
    "from torchsummary import summary\n",
    "import torchvision.transforms as T\n",
    "from torchvision.datasets import CIFAR10\n",
    "from torch.utils.data import Dataset, DataLoader"
   ]
  },
  {
   "cell_type": "markdown",
   "id": "ff710561",
   "metadata": {},
   "source": [
    "### DATALOADER"
   ]
  },
  {
   "cell_type": "code",
   "execution_count": null,
   "id": "58f2e747",
   "metadata": {},
   "outputs": [],
   "source": [
    "DATA_DIR = '/home/diogo/Documentos/IC/CNN'\n",
    "CATEGORIES = ['airplane','automobile','bird','cat','deer',\n",
    "               'dog','frog','horse','ship','truck']"
   ]
  },
  {
   "cell_type": "code",
   "execution_count": null,
   "id": "832a0f22",
   "metadata": {},
   "outputs": [],
   "source": [
    "prep_transform = T.Compose([\n",
    "                    T.ToTensor(),\n",
    "                    T.Normalize(\n",
    "                        (0.5, 0.5, 0.5), (0.5, 0.5, 0.5)\n",
    "                    )\n",
    "                  ])\n",
    "\n",
    "tensor_train = CIFAR10(DATA_DIR, train=True, download=False,\n",
    "                         transform=prep_transform)\n",
    "tensor_test = CIFAR10(DATA_DIR, train=False, download=False,\n",
    "                         transform=prep_transform)\n"
   ]
  },
  {
   "cell_type": "code",
   "execution_count": null,
   "id": "49fbb693",
   "metadata": {},
   "outputs": [],
   "source": [
    "batch_size = 64\n",
    "\n",
    "train_loader = DataLoader(tensor_train, batch_size=batch_size, shuffle=True)\n",
    "test_loader = DataLoader(tensor_test, batch_size=batch_size, shuffle=False)"
   ]
  },
  {
   "cell_type": "markdown",
   "id": "38db477e",
   "metadata": {},
   "source": [
    "### MODEL"
   ]
  },
  {
   "cell_type": "code",
   "execution_count": null,
   "id": "27fef037",
   "metadata": {},
   "outputs": [],
   "source": [
    "VGG16 = [64, 64, 'M', 128, 128, 'M', 256, 256, 256, 'M', 512, 512, 512, 'M', 512, 512, 512, 'M']"
   ]
  },
  {
   "cell_type": "code",
   "execution_count": null,
   "id": "59288476",
   "metadata": {},
   "outputs": [],
   "source": [
    "class VGG_net(nn.Module):\n",
    "  def __init__(self,in_channels = 3,num_classes = 10):\n",
    "    \n",
    "      super(VGG_net,self).__init__()\n",
    "      self.in_channels = in_channels\n",
    "      self.conv_layers = self.create_conv_layers(VGG16)\n",
    "      self.lin_layer = nn.Sequential(\n",
    "        \n",
    "        nn.Linear(512,4096),\n",
    "        nn.ReLU(),\n",
    "        nn.Dropout(p = 0.5),\n",
    "        \n",
    "        nn.Linear(4096,4096),\n",
    "        nn.ReLU(),\n",
    "        nn.Dropout(p = 0.5),\n",
    "        \n",
    "        nn.Linear(4096,num_classes),\n",
    "      )\n",
    "\n",
    "  def forward(self, x):\n",
    "    x = self.conv_layers(x)\n",
    "    x = x.reshape(x.shape[0],-1)\n",
    "    x = self.lin_layer(x)\n",
    "    return x\n",
    "  \n",
    "  def create_conv_layers(self, architecture):\n",
    "    layers = []\n",
    "    \n",
    "    in_channels = self.in_channels\n",
    "    \n",
    "    for x in architecture:\n",
    "      print(x)\n",
    "      if type(x) == int:\n",
    "        \n",
    "        out_channels = x\n",
    "        \n",
    "        layers += [nn.Conv2d(in_channels,out_channels, kernel_size= 3, stride = 1, padding = 1),\n",
    "                  nn.BatchNorm2d(x),\n",
    "                  nn.ReLU()]\n",
    "\n",
    "        in_channels = x\n",
    "        \n",
    "      if x == 'M':\n",
    "        layers += [nn.MaxPool2d(kernel_size= 2, stride = 2)]\n",
    "        \n",
    "        \n",
    "    return nn.Sequential(*layers)\n",
    "\n"
   ]
  },
  {
   "cell_type": "code",
   "execution_count": null,
   "id": "23592073",
   "metadata": {},
   "outputs": [],
   "source": [
    "device = \"cuda\" if torch.cuda.is_available() else \"cpu\"\n",
    "print(f\"Rodando na {device}\")"
   ]
  },
  {
   "cell_type": "code",
   "execution_count": null,
   "id": "97b234df",
   "metadata": {},
   "outputs": [],
   "source": [
    "cnn_model = VGG_net().to(device)"
   ]
  },
  {
   "cell_type": "code",
   "execution_count": null,
   "id": "744a3d57",
   "metadata": {},
   "outputs": [],
   "source": [
    "summary(cnn_model, (3, 32, 32))"
   ]
  },
  {
   "cell_type": "code",
   "execution_count": null,
   "id": "66f3db74",
   "metadata": {},
   "outputs": [],
   "source": [
    "cnn_loss_func = nn.CrossEntropyLoss()\n",
    "cnn_optimizer = torch.optim.SGD(cnn_model.parameters(), lr=0.001)"
   ]
  },
  {
   "cell_type": "markdown",
   "id": "a7578e9b",
   "metadata": {},
   "source": [
    "### TRAINING"
   ]
  },
  {
   "cell_type": "code",
   "execution_count": null,
   "id": "0bb019d2",
   "metadata": {},
   "outputs": [],
   "source": [
    "def plot_loss(train_losses, test_losses):\n",
    "    fig = plt.figure(figsize=(13,5))\n",
    "    ax = fig.gca()\n",
    "    ax.plot(train_losses, label=\"Train loss\", color = \"green\")\n",
    "    ax.plot(test_losses, label=\"Test loss\", color = \"purple\")\n",
    "    ax.legend(fontsize=\"16\")\n",
    "    ax.set_xlabel(\"Iteration\", fontsize=\"16\")\n",
    "    ax.set_ylabel(\"Loss\", fontsize=\"16\")\n",
    "    ax.set_title(\"Loss vs iterations\", fontsize=\"16\");\n",
    "    plt.show()"
   ]
  },
  {
   "cell_type": "code",
   "execution_count": null,
   "id": "bb3ef283",
   "metadata": {},
   "outputs": [],
   "source": [
    "\n",
    "epochs = 51\n",
    "conv_train_losses = []\n",
    "conv_test_losses = []\n",
    "\n",
    "for t in range(epochs):\n",
    "    \n",
    "    train_loss = 0.0\n",
    "    test_loss = 0.0\n",
    "\n",
    "    for img, label in tqdm(train_loader, desc=f'Epoch {t}/{epochs-1}'):\n",
    "        \n",
    "        cnn_optimizer.zero_grad()\n",
    "        \n",
    "        img,label = img.to(device) ,label.to(device)\n",
    "        \n",
    "        pred = cnn_model(img)\n",
    "        loss = cnn_loss_func(pred, label)\n",
    "        loss.backward()\n",
    "        cnn_optimizer.step()\n",
    "        \n",
    "        train_loss += loss.item()\n",
    "        \n",
    "    train_loss = train_loss/len(train_loader)\n",
    "    conv_train_losses.append(train_loss)\n",
    "    \n",
    "    with torch.no_grad():\n",
    "        for img, labels in test_loader:\n",
    "            \n",
    "            img, labels = img.to(device), labels.to(device)\n",
    "\n",
    "            pred = cnn_model(img)\n",
    "            loss = cnn_loss_func(pred, labels)\n",
    "            test_loss += loss.item()\n",
    "        \n",
    "    test_loss = test_loss / len(test_loader)\n",
    "    conv_test_losses.append(test_loss)\n",
    "    \n",
    "    if t % 10 == 0:\n",
    "        print(f\"Epoch: {t}; Train Loss: {train_loss}\")\n",
    "        if t != 0:\n",
    "            plot_loss(conv_train_losses,conv_test_losses)"
   ]
  },
  {
   "cell_type": "code",
   "execution_count": null,
   "id": "db11b660",
   "metadata": {},
   "outputs": [],
   "source": []
  }
 ],
 "metadata": {
  "kernelspec": {
   "display_name": "Python 3 (ipykernel)",
   "language": "python",
   "name": "python3"
  },
  "language_info": {
   "codemirror_mode": {
    "name": "ipython",
    "version": 3
   },
   "file_extension": ".py",
   "mimetype": "text/x-python",
   "name": "python",
   "nbconvert_exporter": "python",
   "pygments_lexer": "ipython3",
   "version": "3.10.12"
  }
 },
 "nbformat": 4,
 "nbformat_minor": 5
}
