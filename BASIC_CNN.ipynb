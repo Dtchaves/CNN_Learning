{
 "cells": [
  {
   "cell_type": "markdown",
   "id": "f1a1f6e8",
   "metadata": {},
   "source": [
    "# BASIC CNN \n",
    "https://www.youtube.com/watch?v=doT7koXt9vw&list=PL5TJqBvpXQv6cd1kade4kjwr8_QQj8j3k&index=3"
   ]
  },
  {
   "cell_type": "markdown",
   "id": "6db5d927",
   "metadata": {},
   "source": [
    "### IMPORTS"
   ]
  },
  {
   "cell_type": "code",
   "execution_count": null,
   "id": "a2e88f40",
   "metadata": {},
   "outputs": [],
   "source": [
    "import matplotlib.pyplot as plt\n",
    "import os\n",
    "import torch\n",
    "import pandas as pd\n",
    "from tqdm import tqdm\n",
    "from torch import nn\n",
    "from torchsummary import summary\n",
    "import torchvision.transforms as T\n",
    "from torchvision.datasets import CIFAR10\n",
    "from torch.utils.data import Dataset, DataLoader\n",
    "import sklearn.metrics as metrics"
   ]
  },
  {
   "cell_type": "markdown",
   "id": "15043083",
   "metadata": {},
   "source": [
    "### DATALOADER"
   ]
  },
  {
   "cell_type": "code",
   "execution_count": null,
   "id": "58f2e747",
   "metadata": {},
   "outputs": [],
   "source": [
    "DATA_DIR = '/home/diogo/Documentos/IC/CNN_Learning/dataset'\n",
    "CATEGORIES = ['airplane','automobile','bird','cat','deer',\n",
    "               'dog','frog','horse','ship','truck']"
   ]
  },
  {
   "cell_type": "code",
   "execution_count": null,
   "id": "832a0f22",
   "metadata": {},
   "outputs": [],
   "source": [
    "prep_transform = T.Compose([\n",
    "                    T.ToTensor(),\n",
    "                    T.Normalize(\n",
    "                        (0.4914, 0.4822, 0.4465), (0.2470, 0.2435, 0.2616)\n",
    "                    )\n",
    "                  ])\n",
    "\n",
    "tensor_train = CIFAR10(DATA_DIR, train=True, download=True,\n",
    "                         transform=prep_transform)\n",
    "tensor_test = CIFAR10(DATA_DIR, train=False, download=True,\n",
    "                         transform=prep_transform)\n"
   ]
  },
  {
   "cell_type": "code",
   "execution_count": null,
   "id": "49fbb693",
   "metadata": {},
   "outputs": [],
   "source": [
    "batch_size = 64\n",
    "\n",
    "train_loader = DataLoader(tensor_train, batch_size=batch_size, shuffle=True)\n",
    "test_loader = DataLoader(tensor_test, batch_size=batch_size, shuffle=False)"
   ]
  },
  {
   "cell_type": "markdown",
   "id": "2022427b",
   "metadata": {},
   "source": [
    "### MODEL"
   ]
  },
  {
   "cell_type": "code",
   "execution_count": null,
   "id": "59288476",
   "metadata": {},
   "outputs": [],
   "source": [
    "class CNN_net(nn.Module):\n",
    "  def __init__(self):\n",
    "      super().__init__()\n",
    "      self.convlayers = nn.Sequential(\n",
    "        nn.Conv2d(3, 16, kernel_size=(3, 3)),\n",
    "        nn.ReLU(),\n",
    "        nn.MaxPool2d(2, 2),\n",
    "\n",
    "        nn.Conv2d(16, 32, kernel_size=(3, 3)),\n",
    "        nn.ReLU(),\n",
    "        nn.MaxPool2d(2, 2),\n",
    "\n",
    "      )\n",
    "\n",
    "      self.linearlayers = nn.Sequential(\n",
    "          nn.Linear(1152, 256),\n",
    "          nn.ReLU(),\n",
    "          nn.Linear(256, 100)\n",
    "      )\n",
    "\n",
    "  def forward(self, x):\n",
    "      x = self.convlayers(x)\n",
    "      x = torch.flatten(x, 1)\n",
    "      return self.linearlayers(x)"
   ]
  },
  {
   "cell_type": "code",
   "execution_count": null,
   "id": "23592073",
   "metadata": {},
   "outputs": [],
   "source": [
    "device = \"cuda\" if torch.cuda.is_available() else \"cpu\"\n",
    "print(f\"Rodando na {device}\")"
   ]
  },
  {
   "cell_type": "code",
   "execution_count": null,
   "id": "97b234df",
   "metadata": {},
   "outputs": [],
   "source": [
    "cnn_model = CNN_net().to(device)"
   ]
  },
  {
   "cell_type": "code",
   "execution_count": null,
   "id": "744a3d57",
   "metadata": {},
   "outputs": [],
   "source": [
    "summary(cnn_model, (3, 32, 32))"
   ]
  },
  {
   "cell_type": "code",
   "execution_count": null,
   "id": "66f3db74",
   "metadata": {},
   "outputs": [],
   "source": [
    "cnn_loss_func = nn.CrossEntropyLoss()\n",
    "cnn_optimizer = torch.optim.SGD(cnn_model.parameters(), lr=0.001)"
   ]
  },
  {
   "cell_type": "markdown",
   "id": "7a1636a1",
   "metadata": {},
   "source": [
    "### TRAINING"
   ]
  },
  {
   "cell_type": "code",
   "execution_count": null,
   "id": "0bb019d2",
   "metadata": {},
   "outputs": [],
   "source": [
    "def plot_loss(train_losses, test_losses):\n",
    "    fig = plt.figure(figsize=(13,5))\n",
    "    ax = fig.gca()\n",
    "    plt.ion()\n",
    "    ax.plot(train_losses, label=\"Train loss\", color = \"green\")\n",
    "    ax.plot(test_losses, label=\"Test loss\", color = \"purple\")\n",
    "    ax.legend(fontsize=\"16\")\n",
    "    ax.set_xlabel(\"Iteration\", fontsize=\"16\")\n",
    "    ax.set_ylabel(\"Loss\", fontsize=\"16\")\n",
    "    ax.set_title(\"Loss vs iterations\", fontsize=\"16\");\n",
    "    plt.show()"
   ]
  },
  {
   "cell_type": "code",
   "execution_count": null,
   "id": "bb3ef283",
   "metadata": {},
   "outputs": [],
   "source": [
    "\n",
    "epochs = 11\n",
    "conv_train_losses = []\n",
    "conv_test_losses = []\n",
    "\n",
    "for t in range(epochs):\n",
    "    \n",
    "    train_loss = 0.0\n",
    "    test_loss = 0.0\n",
    "\n",
    "    for img, label in tqdm(train_loader, desc=f'Epoch {t}/{epochs-1}'):\n",
    "        \n",
    "        cnn_optimizer.zero_grad()\n",
    "        \n",
    "        img,label = img.to(device) ,label.to(device)\n",
    "        \n",
    "        pred = cnn_model(img)\n",
    "        loss = cnn_loss_func(pred, label)\n",
    "        loss.backward()\n",
    "        cnn_optimizer.step()\n",
    "        \n",
    "        train_loss += loss.item()\n",
    "        \n",
    "    train_loss = train_loss/len(train_loader)\n",
    "    conv_train_losses.append(train_loss)\n",
    "    \n",
    "    with torch.no_grad():\n",
    "        for img, labels in test_loader:\n",
    "            \n",
    "            img, labels = img.to(device), labels.to(device)\n",
    "\n",
    "            pred = cnn_model(img)\n",
    "            loss = cnn_loss_func(pred, labels)\n",
    "            test_loss += loss.item()\n",
    "        \n",
    "    test_loss = test_loss / len(test_loader)\n",
    "    conv_test_losses.append(test_loss)\n",
    "    \n",
    "    #if t % 10 == 0:\n",
    "    print(f\"Epoch: {t}; Train Loss: {train_loss}\")\n",
    "    #    if t != 0:\n",
    "    plot_loss(conv_train_losses,conv_test_losses)"
   ]
  },
  {
   "cell_type": "markdown",
   "id": "e908fbef",
   "metadata": {},
   "source": [
    "### VALIDATION"
   ]
  },
  {
   "cell_type": "code",
   "execution_count": null,
   "id": "ce2adfcd",
   "metadata": {},
   "outputs": [],
   "source": [
    "cnn_model.eval()\n",
    "y_true = [labels for _ , labels in test_loader]\n",
    "y_pred = []\n",
    "with torch.no_grad():\n",
    "        for img, labels in test_loader:\n",
    "            \n",
    "            img, labels = img.to(device), labels.to(device)\n",
    "\n",
    "            pred = cnn_model(img)\n",
    "            _, pred = torch.max(cnn_model(img), 1)\n",
    "            y_pred.append(pred)\n",
    "            \n",
    "            \n",
    "y_true = torch.cat(y_true)\n",
    "y_pred = torch.cat(y_pred)\n",
    "print(y_pred)"
   ]
  },
  {
   "cell_type": "markdown",
   "id": "f32a605b",
   "metadata": {},
   "source": [
    "#### Accuracy"
   ]
  },
  {
   "cell_type": "markdown",
   "id": "1067fedd",
   "metadata": {},
   "source": [
    "### <img src=\"https://hasty.ai/media/pages/docs/mp-wiki/metrics/accuracy/8da77ede45-1684142766/12.webp\" alt=\"Formula\" width=600 height=100 >"
   ]
  },
  {
   "cell_type": "code",
   "execution_count": null,
   "id": "faee0259",
   "metadata": {},
   "outputs": [],
   "source": [
    "accuracy = metrics.accuracy_score(y_true, y_pred)\n",
    "print(accuracy)"
   ]
  },
  {
   "cell_type": "markdown",
   "id": "297587aa",
   "metadata": {},
   "source": [
    "#### Precision\n",
    "### <img src=\"https://miro.medium.com/v2/resize:fit:888/1*C3ctNdO0mde9fa1PFsCVqA.png\" alt=\"Formula\" width=400 height=150 >"
   ]
  },
  {
   "cell_type": "code",
   "execution_count": null,
   "id": "2b50fea9",
   "metadata": {},
   "outputs": [],
   "source": [
    "precision = metrics.precision_score(y_true, y_pred , average= 'micro')\n",
    "print(precision)"
   ]
  },
  {
   "cell_type": "markdown",
   "id": "c117685d",
   "metadata": {},
   "source": [
    "#### Recall"
   ]
  },
  {
   "cell_type": "markdown",
   "id": "6d151bab",
   "metadata": {},
   "source": [
    "### <img src=\"https://miro.medium.com/v2/resize:fit:836/1*dXkDleGhA-jjZmZ1BlYKXg.png\" alt=\"Formula\" width=400 height=150 >"
   ]
  },
  {
   "cell_type": "code",
   "execution_count": null,
   "id": "bfff6e97",
   "metadata": {},
   "outputs": [],
   "source": [
    "recall = metrics.recall_score(y_true, y_pred,average= 'micro')\n",
    "print(recall)"
   ]
  },
  {
   "cell_type": "markdown",
   "id": "7061d575",
   "metadata": {},
   "source": [
    "#### F1 Score"
   ]
  },
  {
   "cell_type": "markdown",
   "id": "5e65538e",
   "metadata": {},
   "source": [
    "### <img src=\"https://miro.medium.com/v2/resize:fit:564/format:webp/1*T6kVUKxG_Z4V5Fm1UXhEIw.png\" alt=\"Formula\" width=350 height=100 >"
   ]
  },
  {
   "cell_type": "code",
   "execution_count": null,
   "id": "fb99fa59",
   "metadata": {},
   "outputs": [],
   "source": [
    "f1 = metrics.f1_score(y_true, y_pred,average= 'micro')\n",
    "print(f1)"
   ]
  },
  {
   "cell_type": "code",
   "execution_count": null,
   "id": "c0ecd8e5",
   "metadata": {},
   "outputs": [],
   "source": [
    "report_table = {\n",
    "    'Accuracy': [accuracy],\n",
    "    'Precision': [precision],\n",
    "    'Recall': [recall],\n",
    "    'F1 Score': [f1]\n",
    "}\n",
    "\n",
    "report_table_df = pd.DataFrame(report_table)\n",
    "\n",
    "fig, ax = plt.subplots(figsize=(20, 1))\n",
    "ax.axis('tight')\n",
    "ax.axis('off')\n",
    "\n",
    "table = ax.table(cellText=report_table_df.values, colLabels=report_table_df.columns, cellLoc='center', loc='center')\n",
    "table.scale(1,2)\n",
    "\n",
    "for key, cell in table.get_celld().items():\n",
    "    if key[0] == 0:\n",
    "        cell.set_text_props(weight='bold')\n",
    "        \n",
    "plt.show()\n",
    "\n"
   ]
  },
  {
   "cell_type": "code",
   "execution_count": null,
   "id": "b51168cb",
   "metadata": {},
   "outputs": [],
   "source": [
    "classification_report = metrics.classification_report(y_true, y_pred,target_names=CATEGORIES)\n",
    "print(classification_report)"
   ]
  }
 ],
 "metadata": {
  "kernelspec": {
   "display_name": "Python 3 (ipykernel)",
   "language": "python",
   "name": "python3"
  },
  "language_info": {
   "codemirror_mode": {
    "name": "ipython",
    "version": 3
   },
   "file_extension": ".py",
   "mimetype": "text/x-python",
   "name": "python",
   "nbconvert_exporter": "python",
   "pygments_lexer": "ipython3",
   "version": "3.10.12"
  }
 },
 "nbformat": 4,
 "nbformat_minor": 5
}
