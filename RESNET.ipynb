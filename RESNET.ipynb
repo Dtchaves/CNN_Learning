{
 "cells": [
  {
   "cell_type": "markdown",
   "id": "fa83496f",
   "metadata": {},
   "source": [
    "# RESNET \n",
    "\n",
    "https://arxiv.org/pdf/1512.03385.pdf\n",
    "\n",
    "https://www.youtube.com/watch?v=DkNIBBBvcPs"
   ]
  },
  {
   "cell_type": "markdown",
   "id": "ca2f11bd",
   "metadata": {},
   "source": [
    "### IMPORTS"
   ]
  },
  {
   "cell_type": "code",
   "execution_count": null,
   "id": "a2e88f40",
   "metadata": {},
   "outputs": [],
   "source": [
    "import matplotlib.pyplot as plt\n",
    "import os\n",
    "import torch\n",
    "import pandas as pd\n",
    "from tqdm import tqdm\n",
    "from torch import nn\n",
    "from torchsummary import summary\n",
    "import torchvision.transforms as T\n",
    "from torchvision.datasets import CIFAR10\n",
    "from torch.utils.data import Dataset, DataLoader\n",
    "import sklearn.metrics as metrics"
   ]
  },
  {
   "cell_type": "markdown",
   "id": "ff710561",
   "metadata": {},
   "source": [
    "### DATALOADER"
   ]
  },
  {
   "cell_type": "code",
   "execution_count": null,
   "id": "58f2e747",
   "metadata": {},
   "outputs": [],
   "source": [
    "DATA_DIR = '/home/diogo/Documentos/IC/CNN_Learning/dataset'\n",
    "CATEGORIES = ['airplane','automobile','bird','cat','deer',\n",
    "               'dog','frog','horse','ship','truck']"
   ]
  },
  {
   "cell_type": "code",
   "execution_count": null,
   "id": "832a0f22",
   "metadata": {},
   "outputs": [],
   "source": [
    "prep_transform = T.Compose([\n",
    "                    T.ToTensor(),\n",
    "                    T.Normalize(\n",
    "                        (0.5, 0.5, 0.5), (0.5, 0.5, 0.5)\n",
    "                    )\n",
    "                  ])\n",
    "\n",
    "tensor_train = CIFAR10(DATA_DIR, train=True, download=True,\n",
    "                         transform=prep_transform)\n",
    "tensor_test = CIFAR10(DATA_DIR, train=False, download=True,\n",
    "                         transform=prep_transform)\n"
   ]
  },
  {
   "cell_type": "code",
   "execution_count": null,
   "id": "49fbb693",
   "metadata": {},
   "outputs": [],
   "source": [
    "batch_size = 64\n",
    "\n",
    "train_loader = DataLoader(tensor_train, batch_size=batch_size, shuffle=True)\n",
    "test_loader = DataLoader(tensor_test, batch_size=batch_size, shuffle=False)"
   ]
  },
  {
   "cell_type": "markdown",
   "id": "38db477e",
   "metadata": {},
   "source": [
    "### MODEL"
   ]
  },
  {
   "cell_type": "code",
   "execution_count": null,
   "id": "431299af",
   "metadata": {},
   "outputs": [],
   "source": [
    "class Block_Resnet34(nn.Module):\n",
    "    def __init__(self,in_channels,out_channels,identity_downsample = None, stride = 1):\n",
    "        \n",
    "        super(Block_Resnet34,self).__init__()\n",
    "        self.block_layers = nn.Sequential(\n",
    "            nn.Conv2d(in_channels,out_channels, kernel_size = 3,stride = stride, padding = 1),\n",
    "            nn.BatchNorm2d(out_channels),\n",
    "            nn.ReLU(),\n",
    "            nn.Conv2d(out_channels,out_channels, kernel_size = 3,stride = 1, padding = 1),\n",
    "            nn.BatchNorm2d(out_channels),\n",
    "        )\n",
    "        self.identity_downsample = identity_downsample\n",
    "        self.relu = nn.ReLU()\n",
    "\n",
    "\n",
    "    def forward(self, x):\n",
    "        identity = x\n",
    "        x = self.block_layers(x)\n",
    "        if self.identity_downsample is not None:\n",
    "            identity = self.identity_downsample(identity)\n",
    "            \n",
    "        return self.relu(x + identity)\n",
    "\n",
    "class Block_Resnet50(nn.Module):\n",
    "    def __init__(self,in_channels,out_channels,identity_downsample = None, stride = 1,expansion = 4):\n",
    "        \n",
    "        super(Block_Resnet50,self).__init__()\n",
    "        self.expansion = expansion\n",
    "        self.block_layers = nn.Sequential(\n",
    "            nn.Conv2d(in_channels,out_channels, kernel_size = 1,stride = 1, padding = 0),\n",
    "            nn.BatchNorm2d(out_channels),\n",
    "            nn.ReLU(),\n",
    "            nn.Conv2d(out_channels,out_channels, kernel_size = 3,stride = stride, padding = 1),\n",
    "            nn.BatchNorm2d(out_channels),\n",
    "            nn.ReLU(),\n",
    "            nn.Conv2d(out_channels,out_channels*expansion, kernel_size = 1,stride = 1, padding = 0),\n",
    "            nn.BatchNorm2d(out_channels*expansion),\n",
    "        )\n",
    "        self.identity_downsample = identity_downsample\n",
    "        self.relu = nn.ReLU()\n",
    "\n",
    "\n",
    "    def forward(self, x):\n",
    "        identity = x\n",
    "        x = self.block_layers(x)\n",
    "        if self.identity_downsample is not None:\n",
    "            identity = self.identity_downsample(identity)\n",
    "            \n",
    "        return self.relu(x + identity)\n",
    "    \n",
    "class Resnet(nn.Module):\n",
    "    def __init__(self,type_res,img_channels = 3,num_classes = 10):\n",
    "        super(Resnet,self).__init__()\n",
    "        self.in_channels = img_channels;\n",
    "        self.type_res = type_res\n",
    "        self.initial_layers = nn.Sequential(\n",
    "            nn.Conv2d(img_channels,64, kernel_size = 7,stride = 2, padding = 3),\n",
    "            nn.BatchNorm2d(64),\n",
    "            nn.ReLU(),\n",
    "            nn.MaxPool2d(kernel_size= 2, stride = 2,padding = 1)\n",
    "        )\n",
    "        self.in_channels = 64\n",
    "        self.block_layers = self.create_block_layers()\n",
    "        self.avgpool = nn.AdaptiveAvgPool2d((1,1))\n",
    "        if self.type_res == \"Resnet50\": self.fc = nn.Linear(512*4,num_classes)\n",
    "        elif self.type_res == \"Resnet34\": self.fc = nn.Linear(512,num_classes)\n",
    "\n",
    "      \n",
    "    def create_block_layers(self):        \n",
    "        layers = []\n",
    "        architecture = [(3,64,1),(4,128,2),(3,256,2),(3,512,2)] # (blocks,channels,stride)\n",
    "            \n",
    "        for num_blocks,out_channels,stride in architecture:\n",
    "            \n",
    "            identity_downsample = None\n",
    "                \n",
    "            if self.type_res == \"Resnet50\": \n",
    "                if stride != 1 or self.in_channels != out_channels*4:\n",
    "                    identity_downsample = nn.Sequential( \n",
    "                                                        nn.Conv2d(self.in_channels,out_channels*4, kernel_size = 1,stride = stride, padding = 0),\n",
    "                                                        nn.BatchNorm2d(out_channels*4),\n",
    "                                                        )\n",
    "                    \n",
    "                layers.append(Block_Resnet50(self.in_channels,out_channels,identity_downsample=identity_downsample, stride = stride))\n",
    "                self.in_channels = out_channels*4;\n",
    "                \n",
    "            elif self.type_res == \"Resnet34\":\n",
    "                if self.in_channels != out_channels:\n",
    "                    identity_downsample = nn.Sequential( \n",
    "                                                        nn.Conv2d(self.in_channels,out_channels, kernel_size = 3,stride = stride, padding = 1),\n",
    "                                                        nn.BatchNorm2d(out_channels),\n",
    "                                                        )\n",
    "                layers.append(Block_Resnet34(self.in_channels,out_channels,identity_downsample=identity_downsample, stride = stride))\n",
    "                self.in_channels = out_channels;\n",
    "                    \n",
    "            for num in range(num_blocks - 1):\n",
    "                    \n",
    "                if self.type_res == \"Resnet34\":  layers.append(Block_Resnet34(self.in_channels,out_channels))\n",
    "                elif self.type_res == \"Resnet50\":   layers.append(Block_Resnet50(self.in_channels,out_channels))\n",
    "\n",
    "        return nn.Sequential(*layers)\n",
    "\n",
    "    def forward(self, x):\n",
    "        x = self.initial_layers(x)\n",
    "        x = self.block_layers(x)\n",
    "        x = self.avgpool(x)\n",
    "        x = x.reshape(x.shape[0],-1)\n",
    "        x = self.fc(x)\n",
    "        return x\n"
   ]
  },
  {
   "cell_type": "code",
   "execution_count": null,
   "id": "23592073",
   "metadata": {},
   "outputs": [],
   "source": [
    "device = \"cuda\" if torch.cuda.is_available() else \"cpu\"\n",
    "print(f\"Rodando na {device}\")"
   ]
  },
  {
   "cell_type": "code",
   "execution_count": null,
   "id": "a0209fae",
   "metadata": {},
   "outputs": [],
   "source": [
    "cnn_model = Resnet(type_res= \"Resnet34\").to(device)"
   ]
  },
  {
   "cell_type": "code",
   "execution_count": null,
   "id": "744a3d57",
   "metadata": {},
   "outputs": [],
   "source": [
    "summary(cnn_model, (3, 224, 224))"
   ]
  },
  {
   "cell_type": "code",
   "execution_count": null,
   "id": "66f3db74",
   "metadata": {},
   "outputs": [],
   "source": [
    "cnn_loss_func = nn.CrossEntropyLoss()\n",
    "cnn_optimizer = torch.optim.SGD(cnn_model.parameters(), lr=0.001)"
   ]
  },
  {
   "cell_type": "markdown",
   "id": "a7578e9b",
   "metadata": {},
   "source": [
    "### TRAINING"
   ]
  },
  {
   "cell_type": "code",
   "execution_count": null,
   "id": "0bb019d2",
   "metadata": {},
   "outputs": [],
   "source": [
    "def plot_loss(train_losses, test_losses):\n",
    "    fig = plt.figure(figsize=(13,5))\n",
    "    ax = fig.gca()\n",
    "    ax.plot(train_losses, label=\"Train loss\", color = \"green\")\n",
    "    ax.plot(test_losses, label=\"Test loss\", color = \"purple\")\n",
    "    ax.legend(fontsize=\"16\")\n",
    "    ax.set_xlabel(\"Iteration\", fontsize=\"16\")\n",
    "    ax.set_ylabel(\"Loss\", fontsize=\"16\")\n",
    "    ax.set_title(\"Loss vs iterations\", fontsize=\"16\");\n",
    "    plt.show()"
   ]
  },
  {
   "cell_type": "code",
   "execution_count": null,
   "id": "bb3ef283",
   "metadata": {},
   "outputs": [],
   "source": [
    "\n",
    "epochs = 51\n",
    "conv_train_losses = []\n",
    "conv_test_losses = []\n",
    "\n",
    "for t in range(epochs):\n",
    "    \n",
    "    train_loss = 0.0\n",
    "    test_loss = 0.0\n",
    "\n",
    "    for img, label in tqdm(train_loader, desc=f'Epoch {t}/{epochs-1}'):\n",
    "        \n",
    "        cnn_optimizer.zero_grad()\n",
    "        \n",
    "        img,label = img.to(device) ,label.to(device)\n",
    "        \n",
    "        pred = cnn_model(img)\n",
    "        loss = cnn_loss_func(pred, label)\n",
    "        loss.backward()\n",
    "        cnn_optimizer.step()\n",
    "        \n",
    "        train_loss += loss.item()\n",
    "        \n",
    "    train_loss = train_loss/len(train_loader)\n",
    "    conv_train_losses.append(train_loss)\n",
    "    \n",
    "    with torch.no_grad():\n",
    "        for img, labels in test_loader:\n",
    "            \n",
    "            img, labels = img.to(device), labels.to(device)\n",
    "\n",
    "            pred = cnn_model(img)\n",
    "            loss = cnn_loss_func(pred, labels)\n",
    "            test_loss += loss.item()\n",
    "        \n",
    "    test_loss = test_loss / len(test_loader)\n",
    "    conv_test_losses.append(test_loss)\n",
    "    \n",
    "    if t % 10 == 0:\n",
    "        print(f\"Epoch: {t}; Train Loss: {train_loss}\")\n",
    "        if t != 0:\n",
    "            plot_loss(conv_train_losses,conv_test_losses)"
   ]
  },
  {
   "cell_type": "markdown",
   "id": "a345f603",
   "metadata": {},
   "source": [
    "### VALIDATION"
   ]
  },
  {
   "cell_type": "code",
   "execution_count": null,
   "id": "637c1dfc",
   "metadata": {},
   "outputs": [],
   "source": [
    "cnn_model.eval()\n",
    "y_true = [labels for _ , labels in test_loader]\n",
    "y_pred = []\n",
    "with torch.no_grad():\n",
    "        for img, labels in test_loader:\n",
    "            \n",
    "            img, labels = img.to(device), labels.to(device)\n",
    "\n",
    "            pred = cnn_model(img)\n",
    "            _, pred = torch.max(cnn_model(img), 1)\n",
    "            y_pred.append(pred)\n",
    "            \n",
    "            \n",
    "y_true = torch.cat(y_true)\n",
    "y_pred = torch.cat(y_pred)\n",
    "print(y_pred)"
   ]
  },
  {
   "cell_type": "markdown",
   "id": "d4e5c98d",
   "metadata": {},
   "source": [
    "#### Accuracy"
   ]
  },
  {
   "cell_type": "markdown",
   "id": "78c333ab",
   "metadata": {},
   "source": [
    "### <img src=\"https://hasty.ai/media/pages/docs/mp-wiki/metrics/accuracy/8da77ede45-1684142766/12.webp\" alt=\"Formula\" width=600 height=100 >"
   ]
  },
  {
   "cell_type": "code",
   "execution_count": null,
   "id": "b757546c",
   "metadata": {},
   "outputs": [],
   "source": [
    "accuracy = metrics.accuracy_score(y_true, y_pred)\n",
    "print(accuracy)"
   ]
  },
  {
   "cell_type": "markdown",
   "id": "8c0bf563",
   "metadata": {},
   "source": [
    "#### Precision\n",
    "### <img src=\"https://miro.medium.com/v2/resize:fit:888/1*C3ctNdO0mde9fa1PFsCVqA.png\" alt=\"Formula\" width=400 height=150 >"
   ]
  },
  {
   "cell_type": "code",
   "execution_count": null,
   "id": "42e3e412",
   "metadata": {},
   "outputs": [],
   "source": [
    "precision = metrics.precision_score(y_true, y_pred , average= 'micro')\n",
    "print(precision)"
   ]
  },
  {
   "cell_type": "markdown",
   "id": "cdac6ce6",
   "metadata": {},
   "source": [
    "#### Recall"
   ]
  },
  {
   "cell_type": "markdown",
   "id": "65c1f2fd",
   "metadata": {},
   "source": [
    "### <img src=\"https://miro.medium.com/v2/resize:fit:836/1*dXkDleGhA-jjZmZ1BlYKXg.png\" alt=\"Formula\" width=400 height=150 >"
   ]
  },
  {
   "cell_type": "code",
   "execution_count": null,
   "id": "b8c6b34f",
   "metadata": {},
   "outputs": [],
   "source": [
    "recall = metrics.recall_score(y_true, y_pred,average= 'micro')\n",
    "print(recall)"
   ]
  },
  {
   "cell_type": "markdown",
   "id": "f387ea11",
   "metadata": {},
   "source": [
    "#### F1 Score"
   ]
  },
  {
   "cell_type": "markdown",
   "id": "96ce3aa2",
   "metadata": {},
   "source": [
    "### <img src=\"https://miro.medium.com/v2/resize:fit:564/format:webp/1*T6kVUKxG_Z4V5Fm1UXhEIw.png\" alt=\"Formula\" width=350 height=100 >"
   ]
  },
  {
   "cell_type": "code",
   "execution_count": null,
   "id": "8b97e519",
   "metadata": {},
   "outputs": [],
   "source": [
    "f1 = metrics.f1_score(y_true, y_pred,average= 'micro')\n",
    "print(f1)"
   ]
  },
  {
   "cell_type": "code",
   "execution_count": null,
   "id": "9ae18fe9",
   "metadata": {},
   "outputs": [],
   "source": [
    "report_table = {\n",
    "    'Accuracy': [accuracy],\n",
    "    'Precision': [precision],\n",
    "    'Recall': [recall],\n",
    "    'F1 Score': [f1]\n",
    "}\n",
    "\n",
    "report_table_df = pd.DataFrame(report_table)\n",
    "\n",
    "fig, ax = plt.subplots(figsize=(20, 1))\n",
    "ax.axis('tight')\n",
    "ax.axis('off')\n",
    "\n",
    "table = ax.table(cellText=report_table_df.values, colLabels=report_table_df.columns, cellLoc='center', loc='center')\n",
    "table.scale(1,2)\n",
    "\n",
    "for key, cell in table.get_celld().items():\n",
    "    if key[0] == 0:\n",
    "        cell.set_text_props(weight='bold')\n",
    "        \n",
    "plt.show()\n",
    "\n"
   ]
  },
  {
   "cell_type": "code",
   "execution_count": null,
   "id": "b5f9f93e",
   "metadata": {},
   "outputs": [],
   "source": [
    "classification_report = metrics.classification_report(y_true, y_pred,target_names=CATEGORIES)\n",
    "print(classification_report)"
   ]
  }
 ],
 "metadata": {
  "kernelspec": {
   "display_name": "Python 3 (ipykernel)",
   "language": "python",
   "name": "python3"
  },
  "language_info": {
   "codemirror_mode": {
    "name": "ipython",
    "version": 3
   },
   "file_extension": ".py",
   "mimetype": "text/x-python",
   "name": "python",
   "nbconvert_exporter": "python",
   "pygments_lexer": "ipython3",
   "version": "3.10.12"
  }
 },
 "nbformat": 4,
 "nbformat_minor": 5
}
